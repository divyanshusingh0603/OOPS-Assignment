{
  "nbformat": 4,
  "nbformat_minor": 0,
  "metadata": {
    "colab": {
      "provenance": []
    },
    "kernelspec": {
      "name": "python3",
      "display_name": "Python 3"
    },
    "language_info": {
      "name": "python"
    }
  },
  "cells": [
    {
      "cell_type": "markdown",
      "source": [
        "#Theory Questions"
      ],
      "metadata": {
        "id": "c_fAy32_TsLo"
      }
    },
    {
      "cell_type": "markdown",
      "source": [
        "**1.**What is Object-Oriented Programming (OOP)?\n",
        "\n",
        "  - Object-Oriented Programming (OOP) is a programming paradigm based on the concept of objects, which can contain data (attributes) and code (methods/functions).\n",
        "\n",
        "   **Key points of OOP:**\n",
        "\n",
        "i)**Class:**\n",
        "   A blueprint or template for creating objects. It defines attributes and methods common to all objects of that type."
      ],
      "metadata": {
        "id": "RfjutIJFTzJa"
      }
    },
    {
      "cell_type": "code",
      "source": [
        "class Student:\n",
        "  def __init__(self, name):\n",
        "    self.name = name"
      ],
      "metadata": {
        "id": "v0hC8FRNVK9P"
      },
      "execution_count": null,
      "outputs": []
    },
    {
      "cell_type": "markdown",
      "source": [
        "  ii)**Object(Instance):**An individual instance of a class. Objects are created using the class."
      ],
      "metadata": {
        "id": "2Qga1YW4Va15"
      }
    },
    {
      "cell_type": "code",
      "source": [
        "stud = Student(\"John\")"
      ],
      "metadata": {
        "id": "qwJPF6bGVyS_"
      },
      "execution_count": null,
      "outputs": []
    },
    {
      "cell_type": "markdown",
      "source": [
        "iii)**Encapsulation:**Bundling data and methods that operate on the data within a single unit (class), and restricting direct access to some of the object's components.\n",
        "\n",
        "iv)**Inheritance:**A mechanism where a class (child/subclass) can inherit attributes and methods from another class (parent/superclass), promoting code reuse.\n",
        "\n",
        "v)**Polymorphism:**\n",
        "The ability to use the same method name in different classes or contexts with different implementations."
      ],
      "metadata": {
        "id": "y-4w9xNfV8X4"
      }
    },
    {
      "cell_type": "code",
      "source": [
        "class Dog:\n",
        "    def speak(self):\n",
        "        return \"Woof\"\n",
        "\n",
        "class Cat:\n",
        "    def speak(self):\n",
        "        return \"Meow\""
      ],
      "metadata": {
        "id": "HbCICXvgXbqt"
      },
      "execution_count": null,
      "outputs": []
    },
    {
      "cell_type": "markdown",
      "source": [
        "vi)**Abstraction:**Hiding complex implementation details and showing only the necessary features of an object."
      ],
      "metadata": {
        "id": "-hxAsiC1X7hP"
      }
    },
    {
      "cell_type": "markdown",
      "source": [
        "**2.**What is a class in OOP?\n",
        "\n",
        "  - In Object-Oriented Programming (OOP), a class is a blueprint or template for creating objects. It defines a set of attributes (data) and methods (functions) that the created objects (called instances) will have.\n",
        "\n",
        " **Key factors about a Class:**\n",
        "\n",
        " i)A class defines what an object is and what it can do.\n",
        "\n",
        " ii)Objects created from a class share the same structure and behavior, but can have different data values.\n",
        "\n",
        "  iii)A class itself does not hold data—only its instances do."
      ],
      "metadata": {
        "id": "RDeq1wyVOTUY"
      }
    },
    {
      "cell_type": "markdown",
      "source": [
        "**3.**What is an object in OOP?\n",
        "\n",
        "  - In Object-Oriented Programming (OOP), an object is an instance of a class. It is a self-contained unit that contains both data (attributes) and behavior (methods) defined by its class.\n",
        "\n",
        " **Key Characteristics of an Object:**\n",
        "\n",
        " i)It is created from a class.\n",
        "\n",
        " ii)It has its own values for the attributes defined in the class.\n",
        "\n",
        " It can call the methods defined in its class."
      ],
      "metadata": {
        "id": "qoX9D7LIVfif"
      }
    },
    {
      "cell_type": "code",
      "source": [
        "class Student:\n",
        "  def __init__(self, name):\n",
        "    self.name = name"
      ],
      "metadata": {
        "id": "dcx_qiPwQNYQ"
      },
      "execution_count": null,
      "outputs": []
    },
    {
      "cell_type": "code",
      "source": [
        "stud = Student(\"John\")\n",
        "stud.name"
      ],
      "metadata": {
        "colab": {
          "base_uri": "https://localhost:8080/",
          "height": 36
        },
        "id": "yft1qeEGZRTM",
        "outputId": "717307e4-a8f4-4549-e166-e83f03df0a3f"
      },
      "execution_count": null,
      "outputs": [
        {
          "output_type": "execute_result",
          "data": {
            "text/plain": [
              "'John'"
            ],
            "application/vnd.google.colaboratory.intrinsic+json": {
              "type": "string"
            }
          },
          "metadata": {},
          "execution_count": 2
        }
      ]
    },
    {
      "cell_type": "markdown",
      "source": [
        "**4.**What is the difference between abstraction and encapsulation?\n",
        "\n",
        "  - **Abstraction:-**\n",
        "\n",
        " **Definition**\n",
        "\n",
        " Abstraction means hiding complex implementation details and showing only the essential features of an object.\n",
        "\n",
        " **Purpose**\n",
        "\n",
        " To reduce complexity and allow the programmer to focus on what an object does instead of how it does it.\n",
        "\n",
        " **Example**"
      ],
      "metadata": {
        "id": "ZOtoo-t7ZaSc"
      }
    },
    {
      "cell_type": "code",
      "source": [
        "import abc"
      ],
      "metadata": {
        "id": "PbCZ00KGgFpa"
      },
      "execution_count": null,
      "outputs": []
    },
    {
      "cell_type": "code",
      "source": [
        "class Animal:\n",
        "  @abc.abstractmethod\n",
        "  def speak(self):\n",
        "    pass\n",
        "\n",
        "class Dog(Animal):\n",
        "  def speak(self):\n",
        "    return \"Bark!\""
      ],
      "metadata": {
        "id": "bQkYxiLdgR3E"
      },
      "execution_count": null,
      "outputs": []
    },
    {
      "cell_type": "markdown",
      "source": [
        "**Points**\n",
        "\n",
        "i)speak() method is abstract(it hides implementation details).\n",
        "\n",
        " - **Encapsulation:-**\n",
        "\n",
        "  **Definition:**\n",
        "\n",
        " Encapsulation means bundling data and methods that operate on the data into a single unit (a class), and restricting access to some of the object's components.\n",
        "\n",
        "   **Purpose:**\n",
        "\n",
        "   To protect the internal state of an object and prevent unintended interference or misuse.\n",
        "\n",
        "   **Example**"
      ],
      "metadata": {
        "id": "Vwm0qJbThGDc"
      }
    },
    {
      "cell_type": "code",
      "source": [
        "class Student:\n",
        "  def __init__(self, name):\n",
        "    self.__name = name\n",
        "\n",
        "  def get_name(self):\n",
        "    return self.__name"
      ],
      "metadata": {
        "id": "AiTIcSKEmqIi"
      },
      "execution_count": null,
      "outputs": []
    },
    {
      "cell_type": "markdown",
      "source": [
        "**Points**\n",
        "__name is encapsulated(hidden)."
      ],
      "metadata": {
        "id": "N65uKet-m5TD"
      }
    },
    {
      "cell_type": "markdown",
      "source": [
        "**5.** What are dunder methods in Python?\n",
        "\n",
        "  - Dunder methods in Python (short for \"double underscore\" methods, also known as magic methods or special methods) are special methods that have double underscores (__) before and after their names. They allow you to customize how objects behave with built-in operations, like printing, adding, or comparing.\n",
        "\n",
        " Some Examples:\n",
        "\n",
        " `__init__`, `__str__`, `__repr__`, `__add__`, `__len__`\n"
      ],
      "metadata": {
        "id": "-7VwqVFBhadc"
      }
    },
    {
      "cell_type": "code",
      "source": [
        "class Addition:\n",
        "  def __add__(self, x, y):\n",
        "    return x + y"
      ],
      "metadata": {
        "id": "D-LjyBz_pul4"
      },
      "execution_count": null,
      "outputs": []
    },
    {
      "cell_type": "code",
      "source": [
        "Add = Addition()\n",
        "Add.__add__(6, 4)"
      ],
      "metadata": {
        "colab": {
          "base_uri": "https://localhost:8080/"
        },
        "id": "0orCOc2er7N8",
        "outputId": "38a16fbf-b096-4c12-e232-ffb39e0cd21d"
      },
      "execution_count": null,
      "outputs": [
        {
          "output_type": "execute_result",
          "data": {
            "text/plain": [
              "10"
            ]
          },
          "metadata": {},
          "execution_count": 14
        }
      ]
    },
    {
      "cell_type": "markdown",
      "source": [
        "**6.**Explain the concept of inheritance in OOP.\n",
        "\n",
        " - Inheritance is a fundamental concept in OOP that allows one class (child or subclass) to acquire the properties and behaviors (i.e., attributes and methods) of another class (parent or superclass).\n",
        "\n",
        " \"Reuse code by extending existing classes.\"\n",
        "\n",
        " This promotes code reuse, reduces duplication, and allows for hierarchical class structures."
      ],
      "metadata": {
        "id": "6Pxi6YtTnNrk"
      }
    },
    {
      "cell_type": "code",
      "source": [
        "class Animal:\n",
        "  def speak(self):\n",
        "    print(\"Animal is speaking\")\n",
        "\n",
        "class Dog(Animal):\n",
        "  def speak(self):\n",
        "    print(\"Dog is barking\")"
      ],
      "metadata": {
        "id": "XVzjrh9tss3e"
      },
      "execution_count": null,
      "outputs": []
    },
    {
      "cell_type": "code",
      "source": [
        "d = Dog()\n",
        "d.speak()"
      ],
      "metadata": {
        "colab": {
          "base_uri": "https://localhost:8080/"
        },
        "id": "Lck86H1ctblB",
        "outputId": "27911f31-c18b-430f-d9d2-70d7a80f7bc5"
      },
      "execution_count": null,
      "outputs": [
        {
          "output_type": "stream",
          "name": "stdout",
          "text": [
            "Dog is barking\n"
          ]
        }
      ]
    },
    {
      "cell_type": "markdown",
      "source": [
        " Some Types of inheritence:\n",
        "\n",
        " i) Single Inheritance\n",
        "\n",
        " ii) Multiple Inheritance\n",
        "\n",
        " iii)Multilevel Inheritance\n",
        "\n",
        " iv)Hierarchical Inheritance\n"
      ],
      "metadata": {
        "id": "hU0digk6tuQ8"
      }
    },
    {
      "cell_type": "markdown",
      "source": [
        "**7.**What is polymorphism in OOP?\n",
        "\n",
        "  - Polymorphism means \"many forms\". In OOP, it refers to the ability of different objects to respond to the same method or interface in different ways.\n",
        "\n",
        "  Key Idea:\n",
        "\n",
        "  Same method name, different behavior, depending on the object.\n",
        "\n",
        " This allows for flexible and extensible code, especially when working with inheritance and interfaces.\n",
        "\n",
        "  There are two types of Polymorphism and they are:-\n",
        "\n",
        "  i)Compile-time Polymorphism (also called method overloading – not supported natively in Python)\n",
        "\n",
        "  ii)Run-time Polymorphism (via method overriding – common in Python)\n"
      ],
      "metadata": {
        "id": "tQdX2Gyjto2T"
      }
    },
    {
      "cell_type": "markdown",
      "source": [
        "**8.**How is encapsulation achieved in Python?\n",
        "\n",
        "  - Encapsulation in Python is achieved by restricting access to internal data and grouping data (attributes) and methods into a single unit — a class.\n",
        "\n",
        "  i)Public Members (Default)\n",
        "  \n",
        "  Accessible from anywhere.\n",
        "\n",
        "  No leading underscore"
      ],
      "metadata": {
        "id": "ipY6ppMnTuYK"
      }
    },
    {
      "cell_type": "code",
      "source": [
        "class Person:\n",
        "    def __init__(self, name):\n",
        "        self.name = name  # Public attribute\n",
        "\n",
        "p = Person(\"John\")\n",
        "p.name  # Accessible directly\n"
      ],
      "metadata": {
        "colab": {
          "base_uri": "https://localhost:8080/",
          "height": 36
        },
        "id": "-2EC5hrDUVXC",
        "outputId": "5a7fa6de-8291-4c82-c33e-a14788d6aa7a"
      },
      "execution_count": null,
      "outputs": [
        {
          "output_type": "execute_result",
          "data": {
            "text/plain": [
              "'John'"
            ],
            "application/vnd.google.colaboratory.intrinsic+json": {
              "type": "string"
            }
          },
          "metadata": {},
          "execution_count": 2
        }
      ]
    },
    {
      "cell_type": "markdown",
      "source": [
        "ii)Protected Members (Single underscore _)\n",
        "\n",
        "Meant to be accessed within the class and its subclasses.\n",
        "\n",
        "Just a convention; still accessible from outside"
      ],
      "metadata": {
        "id": "-OAr178iUjVt"
      }
    },
    {
      "cell_type": "code",
      "source": [
        "class Person:\n",
        "    def __init__(self, name):\n",
        "        self._name = name  # Protected attribute\n",
        "\n",
        "p = Person(\"Peter\")\n",
        "p._name  # Not recommended, but possible\n"
      ],
      "metadata": {
        "colab": {
          "base_uri": "https://localhost:8080/",
          "height": 36
        },
        "id": "OKkYoTOZUxqK",
        "outputId": "dc2553cb-418d-42a1-cdbc-e649acb2772e"
      },
      "execution_count": null,
      "outputs": [
        {
          "output_type": "execute_result",
          "data": {
            "text/plain": [
              "'Peter'"
            ],
            "application/vnd.google.colaboratory.intrinsic+json": {
              "type": "string"
            }
          },
          "metadata": {},
          "execution_count": 4
        }
      ]
    },
    {
      "cell_type": "markdown",
      "source": [
        "iii)Private Members (Double underscore __)\n",
        "\n",
        "Name-mangled to prevent direct access from outside.\n",
        "\n",
        "Still accessible via _ClassName__attribute.\n",
        "\n"
      ],
      "metadata": {
        "id": "zx90C0e3U_o9"
      }
    },
    {
      "cell_type": "code",
      "source": [
        "class Person:\n",
        "    def __init__(self, name):\n",
        "        self.__name = name  # Private attribute\n",
        "\n",
        "    def get_name(self):\n",
        "        return self.__name\n",
        "\n",
        "p = Person(\"Charlie\")\n",
        "p._Person__name   # Not recommended, but possible\n"
      ],
      "metadata": {
        "colab": {
          "base_uri": "https://localhost:8080/",
          "height": 36
        },
        "id": "p2QoGVX9VOce",
        "outputId": "c98e316d-0722-424d-ed46-5f1a151e0cbc"
      },
      "execution_count": null,
      "outputs": [
        {
          "output_type": "execute_result",
          "data": {
            "text/plain": [
              "'Charlie'"
            ],
            "application/vnd.google.colaboratory.intrinsic+json": {
              "type": "string"
            }
          },
          "metadata": {},
          "execution_count": 8
        }
      ]
    },
    {
      "cell_type": "markdown",
      "source": [
        "**9.**What is a constructor in Python?\n",
        "\n",
        "  - A constructor in Python is a special method used to initialize a new object when it is created from a class. In Python, this is done using the `__init__`() method.\n",
        "\n",
        "  Key Points:\n",
        "  \n",
        "  i)The constructor is named `__init__`.\n",
        "\n",
        " ii)It automatically runs when an object is created.\n",
        "\n",
        " iii)It’s used to assign initial values to object attributes.\n",
        "\n",
        " Example:\n",
        "\n"
      ],
      "metadata": {
        "id": "SFTrYdD3V0Ge"
      }
    },
    {
      "cell_type": "code",
      "source": [
        "class Person:\n",
        "  def __init__(self, name, age):   #Constructor\n",
        "    self.name = name\n",
        "    self.age = age"
      ],
      "metadata": {
        "id": "uK2wzAnqhbsE"
      },
      "execution_count": null,
      "outputs": []
    },
    {
      "cell_type": "markdown",
      "source": [
        "**10.** What are class and static methods in Python?\n",
        "\n",
        "  - In Python, both class methods and static methods are used to define functions inside a class that aren’t directly tied to object instances, but they serve different purposes.\n",
        "\n",
        " **Class Method**\n",
        "\n",
        " Definition:\n",
        "\n",
        " A class method is a method that receives the class itself as the first argument instead of the instance. It is defined using the @classmethod decorator.\n",
        "\n",
        " **Syntax**"
      ],
      "metadata": {
        "id": "-RqnNn_dhw8l"
      }
    },
    {
      "cell_type": "code",
      "source": [
        "class MyClass:\n",
        "  @classmethod\n",
        "  def class_method(cls, args):  #cls refers to class(like self refers to object)\n",
        "    pass"
      ],
      "metadata": {
        "id": "INhE8uquiZDu"
      },
      "execution_count": null,
      "outputs": []
    },
    {
      "cell_type": "markdown",
      "source": [
        "**Static Method**\n",
        "\n",
        "Definition:\n",
        "\n",
        "A static method does not receive the class or instance as the first argument. It is just a function placed inside a class for organizational purposes. It is defined using the @staticmethod decorator.\n",
        "\n",
        "**Syntax**"
      ],
      "metadata": {
        "id": "jJxwTsAzi39A"
      }
    },
    {
      "cell_type": "code",
      "source": [
        "class MyClass:\n",
        "  @staticmethod\n",
        "  def static_method(args):\n",
        "    pass"
      ],
      "metadata": {
        "id": "zHpDv3DtjNn4"
      },
      "execution_count": null,
      "outputs": []
    },
    {
      "cell_type": "markdown",
      "source": [
        "**11.**What is method overloading in Python?\n",
        "\n",
        "  - Method Overloading means defining multiple methods with the same name but different arguments (number or type) in a class. It allows a method to behave differently depending on how it's called.\n",
        "\n",
        "  You can’t define multiple methods with the same name and different signatures — the last one overrides the previous ones.\n",
        "\n",
        "\n"
      ],
      "metadata": {
        "id": "7nROatALjmpH"
      }
    },
    {
      "cell_type": "code",
      "source": [
        "#Example\n",
        "\n",
        "class Greet:\n",
        "    def hello(self, name=None):\n",
        "        if name:\n",
        "            print(f\"Hello, {name}!\")\n",
        "        else:\n",
        "            print(\"Hello!\")\n",
        "\n",
        "g = Greet()\n",
        "g.hello()           # Output: Hello!\n",
        "g.hello(\"John\")    # Output: Hello, John!\n"
      ],
      "metadata": {
        "colab": {
          "base_uri": "https://localhost:8080/"
        },
        "id": "4GsCYxxct0ZM",
        "outputId": "60236fc7-406c-488d-de25-6b4f34d82d25"
      },
      "execution_count": null,
      "outputs": [
        {
          "output_type": "stream",
          "name": "stdout",
          "text": [
            "Hello!\n",
            "Hello, John!\n"
          ]
        }
      ]
    },
    {
      "cell_type": "markdown",
      "source": [
        "**12.**What is method overriding in OOP?\n",
        "\n",
        " - Method overriding occurs when a child class provides a specific implementation of a method that is already defined in its parent class.\n",
        "\n",
        "  **Some Key Points:-**\n",
        "\n",
        " i)Same method name and parameters\n",
        "\n",
        " ii)Defined in both parent and child classes\n",
        "\n",
        " iii)The child's version overrides the parent's version when called on a child object"
      ],
      "metadata": {
        "id": "GjZV9oJLvSPy"
      }
    },
    {
      "cell_type": "code",
      "source": [
        "#Example\n",
        "\n",
        "class Animal:\n",
        "    def speak(self):\n",
        "        return \"Animal makes a sound\"\n",
        "\n",
        "class Dog(Animal):\n",
        "    def speak(self):  # Overriding the parent method\n",
        "        return \"Dog barks\"\n",
        "\n",
        "# Testing\n",
        "a = Animal()\n",
        "d = Dog()\n",
        "\n",
        "print(a.speak())  # Output: Animal makes a sound\n",
        "print(d.speak())  # Output: Dog barks\n"
      ],
      "metadata": {
        "colab": {
          "base_uri": "https://localhost:8080/"
        },
        "id": "hiddKvWOwM2b",
        "outputId": "e2aabe66-45f6-48c3-b652-6b51597fc8c9"
      },
      "execution_count": null,
      "outputs": [
        {
          "output_type": "stream",
          "name": "stdout",
          "text": [
            "Animal makes a sound\n",
            "Dog barks\n"
          ]
        }
      ]
    },
    {
      "cell_type": "markdown",
      "source": [
        "**13.**What is a property decorator in Python?\n",
        "\n",
        " - The @property decorator in Python is used to turn a method into a read-only property, allowing you to access it like an attribute without calling it like a function.\n",
        "\n",
        "Example:\n",
        "\n"
      ],
      "metadata": {
        "id": "nw21dVLmwY3z"
      }
    },
    {
      "cell_type": "code",
      "source": [
        "class Circle:\n",
        "    def __init__(self, radius):\n",
        "        self._radius = radius\n",
        "\n",
        "    @property\n",
        "    def area(self):\n",
        "        return 3.14 * self._radius ** 2\n",
        "\n",
        "c = Circle(5)\n",
        "c.area"
      ],
      "metadata": {
        "colab": {
          "base_uri": "https://localhost:8080/"
        },
        "id": "qQZmyvHHxVtm",
        "outputId": "d815db61-3d43-4418-9d5c-130b1ba4c3cc"
      },
      "execution_count": null,
      "outputs": [
        {
          "output_type": "execute_result",
          "data": {
            "text/plain": [
              "78.5"
            ]
          },
          "metadata": {},
          "execution_count": 16
        }
      ]
    },
    {
      "cell_type": "markdown",
      "source": [
        "**14.** Why is polymorphism important in OOP?\n",
        "\n",
        " - Polymorphism is one of the four core principles of Object-Oriented Programming (OOP), along with encapsulation, abstraction, and inheritance.\n",
        "\n",
        " Polymorphism means \"many forms\" — the ability of different classes to respond to the same method name in different ways.\n",
        "\n",
        "  **Why Polymorphism is important:**\n",
        "\n",
        " i)Code Reusability:\n",
        "\n",
        " You can write general code that works with multiple types (classes).\n",
        "\n",
        " ii)Flexibility and Extensibility:\n",
        "\n",
        " You can add new classes with the same interface without changing existing code.\n",
        "\n",
        " iii)Clean and Maintainable Code:\n",
        "\n",
        " Promotes writing modular and decoupled code.\n",
        "\n",
        " iv)Supports Abstraction\n",
        "\n",
        " You can hide internal implementation and expose only common behavior.\n",
        "\n"
      ],
      "metadata": {
        "id": "v0gEk3wMxvFA"
      }
    },
    {
      "cell_type": "code",
      "source": [
        "class Animal:\n",
        "    def sound(self):\n",
        "        print(\"Animal sound\")\n",
        "class Cat(Animal):\n",
        "    def sound(self):\n",
        "        print(\"Cat meows\")\n",
        "\n",
        "anm = Animal()\n",
        "cat = Cat()\n",
        "\n",
        "anm.sound()\n",
        "cat.sound()"
      ],
      "metadata": {
        "colab": {
          "base_uri": "https://localhost:8080/"
        },
        "id": "uVKkxQBB5-jj",
        "outputId": "d9f15d81-c82c-4fb3-b1d0-e7ad13519da0"
      },
      "execution_count": null,
      "outputs": [
        {
          "output_type": "stream",
          "name": "stdout",
          "text": [
            "Animal sound\n",
            "Cat meows\n"
          ]
        }
      ]
    },
    {
      "cell_type": "markdown",
      "source": [
        "**15.**What is an abstract class in Python?\n",
        "\n",
        " - An abstract class is a class that cannot be instantiated directly and is meant to be inherited by other classes. It can define abstract methods that must be implemented in any subclass.\n",
        "\n",
        " Some key points:\n",
        "\n",
        " i)It serves as a blueprint for other classes.\n",
        "\n",
        " ii)It’s defined using Python’s abc (Abstract Base Class) module.\n",
        "\n",
        " iii)It can contain abstract methods (methods without implementation).\n",
        "\n",
        " iv)You cannot create an object of an abstract class.\n",
        "\n"
      ],
      "metadata": {
        "id": "bQ5uUO0Z6fQ6"
      }
    },
    {
      "cell_type": "code",
      "source": [
        "import abc"
      ],
      "metadata": {
        "id": "wtpMCdIvDWXT"
      },
      "execution_count": null,
      "outputs": []
    },
    {
      "cell_type": "code",
      "source": [
        "class Animal:\n",
        "  @abc.abstractmethod\n",
        "  def make_sound(self):\n",
        "    pass\n",
        "\n",
        "class Dog(Animal):\n",
        "  def make_sound(self):\n",
        "    return \"Bark\"\n",
        "\n",
        "class Cat(Animal):\n",
        "  def make_sound(self):\n",
        "    return \"Meow\"\n",
        "\n",
        "# a = Animal() ❌ This will raise an error\n",
        "d = Dog()\n",
        "d.make_sound()\n"
      ],
      "metadata": {
        "colab": {
          "base_uri": "https://localhost:8080/",
          "height": 36
        },
        "id": "Syx9Zg0LCh76",
        "outputId": "5506adc9-94aa-4a43-c15f-71b1c52c322f"
      },
      "execution_count": null,
      "outputs": [
        {
          "output_type": "execute_result",
          "data": {
            "text/plain": [
              "'Bark'"
            ],
            "application/vnd.google.colaboratory.intrinsic+json": {
              "type": "string"
            }
          },
          "metadata": {},
          "execution_count": 24
        }
      ]
    },
    {
      "cell_type": "markdown",
      "source": [
        "**16.** What are the advantages of OOP?\n",
        "\n",
        " - The Advantages of Object-Oriented Programming (OOP) are as follows:-\n",
        "\n",
        " i)Modularity\n",
        "Code is organized into classes and objects, which makes it easier to manage and understand.\n",
        "\n",
        " Each object is a self-contained unit, which reduces complexity.\n",
        "\n",
        " ii)Reusability\n",
        "Through inheritance, existing classes can be reused and extended without modifying the original code.\n",
        "\n",
        " Promotes DRY (Don't Repeat Yourself) principles.\n",
        "\n",
        " iii)Encapsulation\n",
        "Combines data and methods into a single unit (class), hiding the internal state of objects from the outside.\n",
        "\n",
        " Provides data protection and helps maintain code integrity.\n",
        "\n",
        " iv)Abstraction\n",
        "Allows you to focus on what an object does instead of how it does it.\n",
        "\n",
        " Hides complex implementation details and shows only the necessary features.\n",
        "\n",
        " v)Polymorphism\n",
        "The same operation can behave differently on different classes.\n",
        "\n",
        " Simplifies code and promotes flexibility and extensibility.\n",
        "\n",
        " vi)Maintainability\n",
        "Encapsulation and modular design make code easier to update and debug.\n",
        "\n",
        " Changes in one part of the system can often be made independently of others.\n",
        "\n",
        " vii)Scalability\n",
        "OOP makes it easier to manage and grow complex systems over time.\n",
        "\n",
        " Suitable for large-scale software development.\n",
        "\n",
        " viii)Improved Collaboration\n",
        "Clear object boundaries and responsibilities help teams work on different parts of a system simultaneously with fewer conflicts."
      ],
      "metadata": {
        "id": "h7qro3-LDngs"
      }
    },
    {
      "cell_type": "markdown",
      "source": [
        "**17.**What is the difference between a class variable and an instance variable?\n",
        "\n",
        " - The major difference between a class variable and an instance variable lies in how they are shared and accessed in object-oriented programming:\n",
        "\n",
        "  **Instance Variable**\n",
        "\n",
        "  i)Defined inside a class, but within methods (usually __init__ in Python).\n",
        "\n",
        " ii)Unique to each object (instance) — each object gets its own copy.\n",
        "\n",
        " iii)Changes made to one object’s instance variable do not affect others.\n",
        "\n",
        " Example:"
      ],
      "metadata": {
        "id": "zTXbgwwvv-ke"
      }
    },
    {
      "cell_type": "code",
      "source": [
        "class Student:\n",
        "  def __init__(self, name):\n",
        "    self.name = name"
      ],
      "metadata": {
        "id": "1oID3q_0wzmw"
      },
      "execution_count": null,
      "outputs": []
    },
    {
      "cell_type": "code",
      "source": [
        "stud = Student(\"John\")\n",
        "stud.name"
      ],
      "metadata": {
        "colab": {
          "base_uri": "https://localhost:8080/",
          "height": 36
        },
        "id": "rGy9W9tRxAaU",
        "outputId": "c67a1a42-8bba-427b-b06f-7c609c2226e7"
      },
      "execution_count": null,
      "outputs": [
        {
          "output_type": "execute_result",
          "data": {
            "text/plain": [
              "'John'"
            ],
            "application/vnd.google.colaboratory.intrinsic+json": {
              "type": "string"
            }
          },
          "metadata": {},
          "execution_count": 2
        }
      ]
    },
    {
      "cell_type": "markdown",
      "source": [
        "**Class Variable**\n",
        "\n",
        "i)Defined directly inside a class, outside of any methods.\n",
        "\n",
        "ii)Shared across all instances of the class.\n",
        "\n",
        "iii)Changing it from the class affects all instances, unless overridden in a specific instance.\n",
        "\n",
        "Example:"
      ],
      "metadata": {
        "id": "kFM1h5R9xJqB"
      }
    },
    {
      "cell_type": "code",
      "source": [
        "class Dog:\n",
        "    species = \"Canine\"  # class variable\n",
        "\n",
        "    def __init__(self, name):\n",
        "        self.name = name  # instance variable\n",
        "\n",
        "dog1 = Dog(\"Buddy\")\n",
        "\n",
        "dog1.species"
      ],
      "metadata": {
        "colab": {
          "base_uri": "https://localhost:8080/",
          "height": 36
        },
        "id": "8YAxK26l0Kj3",
        "outputId": "17b9f9f6-0e81-41c4-e1c4-d25eca87af7e"
      },
      "execution_count": null,
      "outputs": [
        {
          "output_type": "execute_result",
          "data": {
            "text/plain": [
              "'Canine'"
            ],
            "application/vnd.google.colaboratory.intrinsic+json": {
              "type": "string"
            }
          },
          "metadata": {},
          "execution_count": 33
        }
      ]
    },
    {
      "cell_type": "markdown",
      "source": [
        "**18.**What is multiple inheritance in Python?\n",
        "\n",
        " - Multiple inheritance is a feature in Python where a class can inherit from more than one parent class. This allows a child class to access attributes and methods from multiple base classes.\n",
        "\n",
        " Example:"
      ],
      "metadata": {
        "id": "BXojgwlU0cZU"
      }
    },
    {
      "cell_type": "code",
      "source": [
        "class Father:\n",
        "    def skills(self):\n",
        "        print(\"Driving, Fishing\")\n",
        "\n",
        "class Mother:\n",
        "    def skills(self):\n",
        "        print(\"Cooking, Painting\")\n",
        "\n",
        "class Child(Father, Mother):\n",
        "    pass\n",
        "\n",
        "c = Child()\n",
        "c.skills()  # Output: Driving, Fishing (due to method resolution order)"
      ],
      "metadata": {
        "colab": {
          "base_uri": "https://localhost:8080/"
        },
        "id": "Uz3XGd7R07eZ",
        "outputId": "6d5ff5c0-f7f4-4a64-dbdc-eca318f6982c"
      },
      "execution_count": null,
      "outputs": [
        {
          "output_type": "stream",
          "name": "stdout",
          "text": [
            "Driving, Fishing\n"
          ]
        }
      ]
    },
    {
      "cell_type": "markdown",
      "source": [
        "In the example above, Child inherits from both Father and Mother. When you call c.skills(), Python uses the method resolution order (MRO) to decide which skills() method to call — in this case, Father's method, because it's listed first."
      ],
      "metadata": {
        "id": "_dhtynQF0-f3"
      }
    },
    {
      "cell_type": "markdown",
      "source": [
        "**Diamond Problem**\n",
        "\n",
        "When multiple inheritance involves classes that inherit from a common base class, it can create ambiguity — this is known as the diamond problem.\n",
        "\n",
        "Example:"
      ],
      "metadata": {
        "id": "UBJTwo7w1K3V"
      }
    },
    {
      "cell_type": "code",
      "source": [
        "class A:\n",
        "    def show(self):\n",
        "        print(\"A\")\n",
        "\n",
        "class B(A):\n",
        "    def show(self):\n",
        "        print(\"B\")\n",
        "\n",
        "class C(A):\n",
        "    def show(self):\n",
        "        print(\"C\")\n",
        "\n",
        "class D(B, C):\n",
        "    pass\n",
        "\n",
        "d = D()\n",
        "d.show()  # Output: B (due to Python’s MRO)"
      ],
      "metadata": {
        "colab": {
          "base_uri": "https://localhost:8080/"
        },
        "id": "DTjTx2Nb1dRp",
        "outputId": "81c7b385-b9c6-4742-bba7-1e6ef0005e8d"
      },
      "execution_count": null,
      "outputs": [
        {
          "output_type": "stream",
          "name": "stdout",
          "text": [
            "B\n"
          ]
        }
      ]
    },
    {
      "cell_type": "markdown",
      "source": [
        "Here, also MRO (Method Resolution Order) decides the result which is of class B"
      ],
      "metadata": {
        "id": "bhus_6mS1hRZ"
      }
    },
    {
      "cell_type": "markdown",
      "source": [
        "**19.**Explain the purpose of `‘’__str__’` and `‘__repr__’` ‘ methods in Python.\n",
        "\n",
        " - In Python, the __str__ and __repr__ methods are special (dunder) methods used to define string representations of objects. They are both called when you try to convert an object to a string, but serve different purposes.\n",
        "\n",
        "  **`__str__`**\n",
        "\n",
        "  i)Purpose: For end users / readable display.\n",
        "\n",
        "  ii)Used By: print(obj), str(obj)\n",
        "\n",
        "  iii)Goal: Human-readable string\n",
        "\n",
        "  **`__repr__`**\n",
        "\n",
        "  i)Purpose: For developers / unambiguous debugging\n",
        "\n",
        "  ii)Used By: repr(obj), in console\n",
        "\n",
        "  iii)Goal: Developer-friendly string"
      ],
      "metadata": {
        "id": "wdIGn41z16xH"
      }
    },
    {
      "cell_type": "markdown",
      "source": [
        "**20.** What is the significance of the ‘super()’ function in Python?\n",
        "\n",
        " - The super() function in Python is used to call a method from a parent (super) class. It's most commonly used in inheritance, especially in class hierarchies with multiple or extended inheritance.\n",
        "\n",
        "  **Purpose 0f super()**\n",
        "\n",
        "  i)To access methods or constructors of a parent class without explicitly naming it.\n",
        "\n",
        " ii)Helps maintain code that's more flexible and maintainable, especially when dealing with multiple inheritance.\n",
        "\n",
        " Example:\n",
        "\n"
      ],
      "metadata": {
        "id": "-p3ft1nh3mQD"
      }
    },
    {
      "cell_type": "code",
      "source": [
        "class Parent:\n",
        "    def greet(self):\n",
        "        print(\"Hello from Parent\")\n",
        "\n",
        "class Child(Parent):\n",
        "    def greet(self):\n",
        "        super().greet()\n",
        "        print(\"Hello from Child\")\n",
        "\n",
        "c = Child()\n",
        "c.greet()\n"
      ],
      "metadata": {
        "colab": {
          "base_uri": "https://localhost:8080/"
        },
        "id": "BnA6Tdho4ToH",
        "outputId": "1d8f8a4a-dafb-4c7c-9e79-8adaef556c29"
      },
      "execution_count": null,
      "outputs": [
        {
          "output_type": "stream",
          "name": "stdout",
          "text": [
            "Hello from Parent\n",
            "Hello from Child\n"
          ]
        }
      ]
    },
    {
      "cell_type": "markdown",
      "source": [
        "**21.**What is the significance of the `__del__` method in Python?\n",
        "\n",
        " - The `__del__` method in Python is a special (magic) method called a destructor. It is automatically invoked when an object is about to be destroyed, i.e., when it is garbage collected.\n",
        "\n",
        "  **Purpose of `__del__`**\n",
        "\n",
        " i)To define cleanup behavior for an object before it is deleted.\n",
        "\n",
        " ii)Typically used to release external resources like:\n",
        "  \n",
        "  Open files\n",
        "\n",
        "  Network connections\n",
        "\n",
        "  database connections\n",
        "\n",
        "  Example:\n"
      ],
      "metadata": {
        "id": "n8D-_1iu4fWE"
      }
    },
    {
      "cell_type": "code",
      "source": [
        "class FileHolder:\n",
        "    def __init__(self, filename):\n",
        "        self.file = open(filename, 'w')\n",
        "        print(\"File opened.\")\n",
        "\n",
        "    def __del__(self):\n",
        "        self.file.close()\n",
        "        print(\"File closed.\")\n",
        "\n",
        "handler = FileHolder(\"example.txt\")\n",
        "del handler"
      ],
      "metadata": {
        "colab": {
          "base_uri": "https://localhost:8080/"
        },
        "id": "8X8qf1qm5Cuu",
        "outputId": "6bd36581-cef3-4d87-eba3-9575c9645b0f"
      },
      "execution_count": null,
      "outputs": [
        {
          "output_type": "stream",
          "name": "stdout",
          "text": [
            "File opened.\n",
            "File closed.\n"
          ]
        }
      ]
    },
    {
      "cell_type": "markdown",
      "source": [
        "**22.**What is the difference between @staticmethod and @classmethod in Python?\n",
        "\n",
        "- In Python, both @staticmethod and @classmethod are decorators used to define methods inside a class that are not regular instance methods. Here's the key difference:\n",
        "\n",
        " **Features of @staticmethod**\n",
        "\n",
        " i)First argument: None (no automatic first argument)\n",
        "\n",
        " ii)Can access: Nothing from class or instance\n",
        "\n",
        " iii)Use case: Utility functions related to class\n",
        "\n",
        " iv)Bound to: Class, but behaves like a plain func\n",
        "\n",
        " **Features of @classmethod**\n",
        "\n",
        " i)First argument: cls (the class itself)\n",
        "\n",
        " ii)Can access: Class-level data (via cls)\n",
        "\n",
        " iii)Use case: Factory methods, class-level behavior\n",
        "\n",
        " iv)Bound to: The class (cls)"
      ],
      "metadata": {
        "id": "C0Q1JWjn6J_m"
      }
    },
    {
      "cell_type": "markdown",
      "source": [
        "**23.**How does polymorphism work in Python with inheritance?\n",
        "\n",
        " - Polymorphism means \"many forms\", and in Python (especially with inheritance), it allows objects of different classes to be treated as objects of a common superclass, while behaving differently based on their actual class.\n",
        "\n",
        "  **How It Works with Inheritance**\n",
        "\n",
        "  i)A base class defines a method.\n",
        "\n",
        " ii)Derived (child) classes override that method with their own implementation.\n",
        "\n",
        " iii)You can call the same method on objects of different classes, and Python will automatically call the correct version based on the object’s type.\n",
        "\n",
        "\n"
      ],
      "metadata": {
        "id": "wVwrDmECLWyj"
      }
    },
    {
      "cell_type": "markdown",
      "source": [
        "**24.**What is method chaining in Python OOP?\n",
        "\n",
        " - Method chaining is a technique where multiple methods are called sequentially on the same object in a single line, improving code readability and fluency.\n",
        "\n",
        "  **Key Idea**\n",
        "\n",
        "  Each method in the chain returns the object itself (usually self), allowing the next method to be called directly.\n",
        "\n",
        "  Example:\n",
        "\n"
      ],
      "metadata": {
        "id": "3U9b5MnTL637"
      }
    },
    {
      "cell_type": "code",
      "source": [
        "class Person:\n",
        "    def __init__(self, name):\n",
        "        self.name = name\n",
        "\n",
        "    def set_age(self, age):\n",
        "        self.age = age\n",
        "        return self\n",
        "\n",
        "    def greet(self):\n",
        "        print(f\"Hi, I'm {self.name}, {self.age} years old.\")\n",
        "        return self\n",
        "\n",
        "person = Person(\"John\").set_age(25).greet()\n"
      ],
      "metadata": {
        "colab": {
          "base_uri": "https://localhost:8080/"
        },
        "id": "VAXl7Dz0M7QO",
        "outputId": "69121cdb-f18a-4356-eee3-a88b9247cab4"
      },
      "execution_count": null,
      "outputs": [
        {
          "output_type": "stream",
          "name": "stdout",
          "text": [
            "Hi, I'm John, 25 years old.\n"
          ]
        }
      ]
    },
    {
      "cell_type": "markdown",
      "source": [
        "**25.**What is the purpose of the `__call__` method in Python?\n",
        "\n",
        " - The `__call__` method in Python allows an object instance to be called as a function.\n",
        "\n",
        " When you define the `__call__` method in a class, you make its instances callable, just like a regular function.\n",
        "\n",
        "  **Purpose**\n",
        "\n",
        "  To make objects behave like functions\n",
        "\n",
        " To encapsulate behavior inside objects\n",
        "\n",
        " To implement function-like objects (e.g., for callbacks, APIs, decorators, ML models)\n",
        "\n",
        " Example:\n"
      ],
      "metadata": {
        "id": "jfzMkNrVNREh"
      }
    },
    {
      "cell_type": "code",
      "source": [
        "class Greeter:\n",
        "    def __init__(self, name):\n",
        "        self.name = name\n",
        "\n",
        "    def __call__(self, greeting):\n",
        "        return f\"{greeting}, {self.name}!\"\n",
        "\n",
        "greet = Greeter(\"John\")\n",
        "print(greet(\"Hello\"))"
      ],
      "metadata": {
        "colab": {
          "base_uri": "https://localhost:8080/"
        },
        "id": "vSfQK34GOFmJ",
        "outputId": "89508219-5ba7-4b28-df11-4004d3e90c99"
      },
      "execution_count": null,
      "outputs": [
        {
          "output_type": "stream",
          "name": "stdout",
          "text": [
            "Hello, John!\n"
          ]
        }
      ]
    },
    {
      "cell_type": "markdown",
      "source": [
        "#Practical Questions"
      ],
      "metadata": {
        "id": "7L2VL69uHEk0"
      }
    },
    {
      "cell_type": "markdown",
      "source": [
        "**1.**Create a parent class Animal with a method speak() that prints a generic message. Create a child class Dog\n",
        "that overrides the speak() method to print \"Bark!\"."
      ],
      "metadata": {
        "id": "g46huYXiHkv3"
      }
    },
    {
      "cell_type": "code",
      "execution_count": null,
      "metadata": {
        "id": "mNOA6j6rGlTk"
      },
      "outputs": [],
      "source": [
        "class Animal:\n",
        "  def speak(self):\n",
        "    print(\"generic message\")\n",
        "\n",
        "class Dog(Animal):\n",
        "  def speak(Self):\n",
        "    print(\"Bark!\")"
      ]
    },
    {
      "cell_type": "code",
      "source": [
        "d = Dog()\n",
        "d.speak()"
      ],
      "metadata": {
        "colab": {
          "base_uri": "https://localhost:8080/"
        },
        "id": "SUAeR25AJVnJ",
        "outputId": "246893a6-4099-4365-b363-38f40d082ef4"
      },
      "execution_count": null,
      "outputs": [
        {
          "output_type": "stream",
          "name": "stdout",
          "text": [
            "Bark!\n"
          ]
        }
      ]
    },
    {
      "cell_type": "markdown",
      "source": [
        "**2.**Write a program to create an abstract class Shape with a method area(). Derive classes Circle and Rectangle\n",
        "from it and implement the area() method in both."
      ],
      "metadata": {
        "id": "FjMXm_dqJjUa"
      }
    },
    {
      "cell_type": "code",
      "source": [
        "import abc"
      ],
      "metadata": {
        "id": "FE3nkfCBJfHC"
      },
      "execution_count": null,
      "outputs": []
    },
    {
      "cell_type": "code",
      "source": [
        "class Shape:\n",
        "  @abc.abstractmethod\n",
        "  def area(self):\n",
        "    pass\n",
        "class Circle(Shape):\n",
        "  def area(self):\n",
        "    print(\"Area of Circle is 22/7 * r ** 2\")\n",
        "class Rectangle(Shape):\n",
        "  def area(self):\n",
        "    print(\"Area of Rectangle is length * width\")"
      ],
      "metadata": {
        "id": "tC8CoiGBLO0T"
      },
      "execution_count": null,
      "outputs": []
    },
    {
      "cell_type": "code",
      "source": [
        "cir = Circle()\n",
        "cir.area()"
      ],
      "metadata": {
        "colab": {
          "base_uri": "https://localhost:8080/"
        },
        "id": "leroq1mjBphG",
        "outputId": "d240681a-6d7f-42f1-fba0-5d07f8202f20"
      },
      "execution_count": null,
      "outputs": [
        {
          "output_type": "stream",
          "name": "stdout",
          "text": [
            "Area of Circle is 22/7 * r ** 2\n"
          ]
        }
      ]
    },
    {
      "cell_type": "code",
      "source": [
        "rect = Rectangle()\n",
        "rect.area()"
      ],
      "metadata": {
        "colab": {
          "base_uri": "https://localhost:8080/"
        },
        "id": "mSDtXZbZB3yB",
        "outputId": "c36d535a-ea9c-4637-f892-e417c60cca9e"
      },
      "execution_count": null,
      "outputs": [
        {
          "output_type": "stream",
          "name": "stdout",
          "text": [
            "Area of Rectangle is length * width\n"
          ]
        }
      ]
    },
    {
      "cell_type": "markdown",
      "source": [
        "**3.**Implement a multi-level inheritance scenario where a class Vehicle has an attribute type. Derive a class Car\n",
        "and further derive a class ElectricCar that adds a battery attribute."
      ],
      "metadata": {
        "id": "qqD1K1yQHcA5"
      }
    },
    {
      "cell_type": "code",
      "source": [
        "class Vehicle:\n",
        "  def __init__(self, type):\n",
        "    self.type = type\n",
        "class Car(Vehicle):\n",
        "  def __init__(self, type, model):\n",
        "    super().__init__(type)\n",
        "    self.model = model\n",
        "class ElectricCar(Car):\n",
        "  def __init__(self, type, model, battery):\n",
        "    super().__init__(type, model)\n",
        "    self.battery = battery"
      ],
      "metadata": {
        "id": "DoHoaWRtB9PD"
      },
      "execution_count": null,
      "outputs": []
    },
    {
      "cell_type": "code",
      "source": [
        "car1 = ElectricCar(\"Four_wheeler\", \"Ford\", \"300amp\")"
      ],
      "metadata": {
        "id": "sP5WjYAEjBr6"
      },
      "execution_count": null,
      "outputs": []
    },
    {
      "cell_type": "code",
      "source": [
        "car1.type"
      ],
      "metadata": {
        "colab": {
          "base_uri": "https://localhost:8080/",
          "height": 36
        },
        "id": "e9_1f4CFjMV4",
        "outputId": "106a7f17-8ea9-402b-daea-d5180235d078"
      },
      "execution_count": null,
      "outputs": [
        {
          "output_type": "execute_result",
          "data": {
            "text/plain": [
              "'Four_wheeler'"
            ],
            "application/vnd.google.colaboratory.intrinsic+json": {
              "type": "string"
            }
          },
          "metadata": {},
          "execution_count": 12
        }
      ]
    },
    {
      "cell_type": "code",
      "source": [
        "car1.model"
      ],
      "metadata": {
        "colab": {
          "base_uri": "https://localhost:8080/",
          "height": 36
        },
        "id": "EobOdlbKE6ZT",
        "outputId": "d7206e8c-2bea-4a0b-ad3a-50df832fe5c4"
      },
      "execution_count": null,
      "outputs": [
        {
          "output_type": "execute_result",
          "data": {
            "text/plain": [
              "'Ford'"
            ],
            "application/vnd.google.colaboratory.intrinsic+json": {
              "type": "string"
            }
          },
          "metadata": {},
          "execution_count": 13
        }
      ]
    },
    {
      "cell_type": "code",
      "source": [
        "car1.battery"
      ],
      "metadata": {
        "colab": {
          "base_uri": "https://localhost:8080/",
          "height": 36
        },
        "id": "lFNsNcaQEwAA",
        "outputId": "36702cb7-4476-4d41-ce6d-9d8c47b092c2"
      },
      "execution_count": null,
      "outputs": [
        {
          "output_type": "execute_result",
          "data": {
            "text/plain": [
              "'300amp'"
            ],
            "application/vnd.google.colaboratory.intrinsic+json": {
              "type": "string"
            }
          },
          "metadata": {},
          "execution_count": 14
        }
      ]
    },
    {
      "cell_type": "markdown",
      "source": [
        "**4.** Demonstrate polymorphism by creating a base class Bird with a method fly(). Create two derived classes\n",
        "Sparrow and Penguin that override the fly() method.\n"
      ],
      "metadata": {
        "id": "7y1awLAXFGf3"
      }
    },
    {
      "cell_type": "code",
      "source": [
        "class Bird:\n",
        "  def fly(self):\n",
        "    print(\"Bird can fly\")\n",
        "\n",
        "class Sparrow(Bird):\n",
        "  def fly(self):\n",
        "    print(\"Sparrow can fly\")\n",
        "\n",
        "class Penguin(Bird):\n",
        "  def fly(self):\n",
        "    print(\"Penguin can't fly\")"
      ],
      "metadata": {
        "id": "er3phGgFE-Ja"
      },
      "execution_count": null,
      "outputs": []
    },
    {
      "cell_type": "code",
      "source": [
        "B1 = Bird()\n",
        "B1.fly()"
      ],
      "metadata": {
        "colab": {
          "base_uri": "https://localhost:8080/"
        },
        "id": "KHzUT3FyGkxp",
        "outputId": "77e09973-85d7-4c15-da45-837ac4b20456"
      },
      "execution_count": null,
      "outputs": [
        {
          "output_type": "stream",
          "name": "stdout",
          "text": [
            "Bird can fly\n"
          ]
        }
      ]
    },
    {
      "cell_type": "code",
      "source": [
        "B2 = Sparrow()\n",
        "B2.fly()"
      ],
      "metadata": {
        "colab": {
          "base_uri": "https://localhost:8080/"
        },
        "id": "zfJC447FGrx9",
        "outputId": "57c92c6a-4a49-4304-9de2-59c2f6ab062c"
      },
      "execution_count": null,
      "outputs": [
        {
          "output_type": "stream",
          "name": "stdout",
          "text": [
            "Sparrow can fly\n"
          ]
        }
      ]
    },
    {
      "cell_type": "code",
      "source": [
        "B3 = Penguin()\n",
        "B3.fly()"
      ],
      "metadata": {
        "colab": {
          "base_uri": "https://localhost:8080/"
        },
        "id": "PtaGG1p2GRX1",
        "outputId": "dff2da20-b16a-455a-b70a-6ef94e7e4b42"
      },
      "execution_count": null,
      "outputs": [
        {
          "output_type": "stream",
          "name": "stdout",
          "text": [
            "Penguin can't fly\n"
          ]
        }
      ]
    },
    {
      "cell_type": "markdown",
      "source": [
        "**5.**Write a program to demonstrate encapsulation by creating a class BankAccount with private attributes\n",
        "balance and methods to deposit, withdraw, and check balance."
      ],
      "metadata": {
        "id": "ZwtfHWCyG30v"
      }
    },
    {
      "cell_type": "code",
      "source": [
        "class Bank:\n",
        "  def __init__(self, balance):\n",
        "    self.__balance = balance\n",
        "\n",
        "  def deposit(self, amount):\n",
        "    self.__balance = self.__balance + amount\n",
        "\n",
        "  def withdraw(self, amount):\n",
        "    if self.__balance >= amount:\n",
        "      self.__balance = self.__balance - amount\n",
        "      return True\n",
        "    else:\n",
        "        return False\n",
        "\n",
        "  def check_balance(self):\n",
        "    return self.__balance"
      ],
      "metadata": {
        "id": "2m4WJGiWGf39"
      },
      "execution_count": null,
      "outputs": []
    },
    {
      "cell_type": "code",
      "source": [
        "acc1 = Bank(600)"
      ],
      "metadata": {
        "id": "qYYcOC0uF220"
      },
      "execution_count": null,
      "outputs": []
    },
    {
      "cell_type": "code",
      "source": [
        "acc1.check_balance()"
      ],
      "metadata": {
        "colab": {
          "base_uri": "https://localhost:8080/"
        },
        "id": "jQhtGQiEGFnQ",
        "outputId": "10d0dd07-8ed1-4b8a-f300-ef29473a1f1f"
      },
      "execution_count": null,
      "outputs": [
        {
          "output_type": "execute_result",
          "data": {
            "text/plain": [
              "600"
            ]
          },
          "metadata": {},
          "execution_count": 5
        }
      ]
    },
    {
      "cell_type": "code",
      "source": [
        "acc1.deposit(400)"
      ],
      "metadata": {
        "id": "DVThacOhGJKd"
      },
      "execution_count": null,
      "outputs": []
    },
    {
      "cell_type": "code",
      "source": [
        "acc1.check_balance()"
      ],
      "metadata": {
        "colab": {
          "base_uri": "https://localhost:8080/"
        },
        "id": "qfAi1iLdGPgh",
        "outputId": "6a807bbd-bf76-4bbd-99ef-1f908d8498f9"
      },
      "execution_count": null,
      "outputs": [
        {
          "output_type": "execute_result",
          "data": {
            "text/plain": [
              "1000"
            ]
          },
          "metadata": {},
          "execution_count": 7
        }
      ]
    },
    {
      "cell_type": "code",
      "source": [
        "acc1.withdraw(500)"
      ],
      "metadata": {
        "colab": {
          "base_uri": "https://localhost:8080/"
        },
        "id": "LgSdy_gpGSRN",
        "outputId": "5eb9e80b-e706-4fe2-9b2a-4f0ce5b0b614"
      },
      "execution_count": null,
      "outputs": [
        {
          "output_type": "execute_result",
          "data": {
            "text/plain": [
              "True"
            ]
          },
          "metadata": {},
          "execution_count": 8
        }
      ]
    },
    {
      "cell_type": "code",
      "source": [
        "acc1.check_balance()"
      ],
      "metadata": {
        "colab": {
          "base_uri": "https://localhost:8080/"
        },
        "id": "nfLpsyCpGbfp",
        "outputId": "eafbe303-72fa-4888-c976-f2055f298ca5"
      },
      "execution_count": null,
      "outputs": [
        {
          "output_type": "execute_result",
          "data": {
            "text/plain": [
              "500"
            ]
          },
          "metadata": {},
          "execution_count": 9
        }
      ]
    },
    {
      "cell_type": "markdown",
      "source": [
        "**6.**Demonstrate runtime polymorphism using a method play() in a base class Instrument. Derive classes Guitar\n",
        "and Piano that implement their own version of play()."
      ],
      "metadata": {
        "id": "B9aFKtc7Gh2A"
      }
    },
    {
      "cell_type": "code",
      "source": [
        "class Instrument:\n",
        "  def play(self):\n",
        "    print(\"Instrument is playing\")\n",
        "\n",
        "class Guitar(Instrument):\n",
        "  def play(self):\n",
        "    print(\"Guitar is playing\")\n",
        "\n",
        "class Piano(Instrument):\n",
        "  def play(self):\n",
        "    print(\"Piano is playing\")"
      ],
      "metadata": {
        "id": "-hj_5p39Ge--"
      },
      "execution_count": null,
      "outputs": []
    },
    {
      "cell_type": "code",
      "source": [
        "p1 = Instrument()"
      ],
      "metadata": {
        "id": "anEJOrvkHLd6"
      },
      "execution_count": null,
      "outputs": []
    },
    {
      "cell_type": "code",
      "source": [
        "p1.play()"
      ],
      "metadata": {
        "colab": {
          "base_uri": "https://localhost:8080/"
        },
        "id": "I9MW2-k5Hc7f",
        "outputId": "6bf0df41-f7b9-454e-87fd-5e28a7eec52b"
      },
      "execution_count": null,
      "outputs": [
        {
          "output_type": "stream",
          "name": "stdout",
          "text": [
            "Instrument is playing\n"
          ]
        }
      ]
    },
    {
      "cell_type": "code",
      "source": [
        "p2 = Guitar()"
      ],
      "metadata": {
        "id": "-fx1u7XjJbKV"
      },
      "execution_count": null,
      "outputs": []
    },
    {
      "cell_type": "code",
      "source": [
        "p2.play()"
      ],
      "metadata": {
        "colab": {
          "base_uri": "https://localhost:8080/"
        },
        "id": "4W6DLPCbJbG2",
        "outputId": "3990feac-e8e1-4031-bc36-186b9d03d8eb"
      },
      "execution_count": null,
      "outputs": [
        {
          "output_type": "stream",
          "name": "stdout",
          "text": [
            "Guitar is playing\n"
          ]
        }
      ]
    },
    {
      "cell_type": "code",
      "source": [
        "p3 = Piano()"
      ],
      "metadata": {
        "id": "AGEuHFHyJbDQ"
      },
      "execution_count": null,
      "outputs": []
    },
    {
      "cell_type": "code",
      "source": [
        "p3.play()"
      ],
      "metadata": {
        "colab": {
          "base_uri": "https://localhost:8080/"
        },
        "id": "_Y_G-IduJbAJ",
        "outputId": "cfbce7a5-ce6f-4491-892b-79d71c92c948"
      },
      "execution_count": null,
      "outputs": [
        {
          "output_type": "stream",
          "name": "stdout",
          "text": [
            "Piano is playing\n"
          ]
        }
      ]
    },
    {
      "cell_type": "markdown",
      "source": [
        "**7.** Create a class MathOperations with a class method add_numbers() to add two numbers and a static\n",
        "method subtract_numbers() to subtract two numbers."
      ],
      "metadata": {
        "id": "mCIAeaTIJz9y"
      }
    },
    {
      "cell_type": "code",
      "source": [
        "class MathOperations:\n",
        "\n",
        "  @classmethod\n",
        "  def add_numbers(cls, x, y):\n",
        "    return x + y\n",
        "\n",
        "  @staticmethod\n",
        "  def subtract_numbers(x, y):\n",
        "    return x - y"
      ],
      "metadata": {
        "id": "gJP8R8U2J4_c"
      },
      "execution_count": null,
      "outputs": []
    },
    {
      "cell_type": "code",
      "source": [
        "add = MathOperations.add_numbers(6, 4)"
      ],
      "metadata": {
        "id": "t3fHoA1ZKq7U"
      },
      "execution_count": null,
      "outputs": []
    },
    {
      "cell_type": "code",
      "source": [
        "add"
      ],
      "metadata": {
        "colab": {
          "base_uri": "https://localhost:8080/"
        },
        "id": "jwNPH7hNLbnO",
        "outputId": "4db35d7b-63d8-489e-ac40-23b2c1ac3c8b"
      },
      "execution_count": null,
      "outputs": [
        {
          "output_type": "execute_result",
          "data": {
            "text/plain": [
              "10"
            ]
          },
          "metadata": {},
          "execution_count": 41
        }
      ]
    },
    {
      "cell_type": "code",
      "source": [
        "MathOperations.subtract_numbers(10, 4)"
      ],
      "metadata": {
        "colab": {
          "base_uri": "https://localhost:8080/"
        },
        "id": "7hNK6pkDLfQO",
        "outputId": "c0a42331-2895-4817-bf09-c5673d35e776"
      },
      "execution_count": null,
      "outputs": [
        {
          "output_type": "execute_result",
          "data": {
            "text/plain": [
              "6"
            ]
          },
          "metadata": {},
          "execution_count": 43
        }
      ]
    },
    {
      "cell_type": "code",
      "source": [],
      "metadata": {
        "id": "fObNZBkGLybk"
      },
      "execution_count": null,
      "outputs": []
    },
    {
      "cell_type": "markdown",
      "source": [
        "**8.**Implement a class Person with a class method to count the total number of persons created."
      ],
      "metadata": {
        "id": "JhELOU6IL4My"
      }
    },
    {
      "cell_type": "code",
      "source": [
        "class Person:\n",
        "  count = 0\n",
        "  def __init__(self, name):\n",
        "    self.name = name\n",
        "    Person.count = Person.count + 1\n",
        "\n",
        "  @classmethod\n",
        "  def total_no_of_persons(cls):\n",
        "    return cls.count"
      ],
      "metadata": {
        "id": "PjK1eFLuOx0D"
      },
      "execution_count": null,
      "outputs": []
    },
    {
      "cell_type": "code",
      "source": [
        "Person.total_no_of_persons()"
      ],
      "metadata": {
        "colab": {
          "base_uri": "https://localhost:8080/"
        },
        "id": "FmwSnuVqOeOw",
        "outputId": "b18fdaed-be67-4c69-990b-2cd9955620c9"
      },
      "execution_count": null,
      "outputs": [
        {
          "output_type": "execute_result",
          "data": {
            "text/plain": [
              "0"
            ]
          },
          "metadata": {},
          "execution_count": 76
        }
      ]
    },
    {
      "cell_type": "code",
      "source": [
        "p1 = Person(\"John\")"
      ],
      "metadata": {
        "id": "7k8Q_dNXOjoI"
      },
      "execution_count": null,
      "outputs": []
    },
    {
      "cell_type": "code",
      "source": [
        "Person.total_no_of_persons()"
      ],
      "metadata": {
        "colab": {
          "base_uri": "https://localhost:8080/"
        },
        "id": "ntndBbb3On7l",
        "outputId": "67757865-196f-421e-801e-3847bff56692"
      },
      "execution_count": null,
      "outputs": [
        {
          "output_type": "execute_result",
          "data": {
            "text/plain": [
              "1"
            ]
          },
          "metadata": {},
          "execution_count": 78
        }
      ]
    },
    {
      "cell_type": "markdown",
      "source": [
        "**9.** Write a class Fraction with attributes numerator and denominator. Override the str method to display the\n",
        "fraction as \"numerator/denominator\"."
      ],
      "metadata": {
        "id": "HN3RaMo1O_xW"
      }
    },
    {
      "cell_type": "code",
      "source": [
        "class Fraction:\n",
        "  def __init__(self, numerator, denominator):\n",
        "    self.numerator = numerator\n",
        "    self.denominator = denominator\n",
        "\n",
        "  def __str__(self):\n",
        "    return (f\"{self.numerator}/{self.denominator}\")"
      ],
      "metadata": {
        "id": "Kgpx3WBAPGPm"
      },
      "execution_count": null,
      "outputs": []
    },
    {
      "cell_type": "code",
      "source": [
        "print(Fraction(15, 5))"
      ],
      "metadata": {
        "colab": {
          "base_uri": "https://localhost:8080/"
        },
        "id": "KgmAApP4TCsQ",
        "outputId": "7de1f8b9-2d09-4655-e9e1-52f192fcfee5"
      },
      "execution_count": null,
      "outputs": [
        {
          "output_type": "stream",
          "name": "stdout",
          "text": [
            "15/5\n"
          ]
        }
      ]
    },
    {
      "cell_type": "markdown",
      "source": [
        "**10.**Demonstrate operator overloading by creating a class Vector and overriding the add method to add two\n",
        "vectors."
      ],
      "metadata": {
        "id": "YsIU4yovTffd"
      }
    },
    {
      "cell_type": "code",
      "source": [
        "class Vector:\n",
        "  def __init__(self, x, y):\n",
        "    self.x = x\n",
        "    self.y = y\n",
        "\n",
        "  def __add__(self, other):\n",
        "    return Vector(self.x + other.x, self.y + other.y)\n",
        "\n",
        "  def __str__(self):\n",
        "    return f\"Vector({self.x}, {self.y})\""
      ],
      "metadata": {
        "id": "c_5q8RiRPMvy"
      },
      "execution_count": null,
      "outputs": []
    },
    {
      "cell_type": "code",
      "source": [
        "v1 = Vector(6, 4)\n",
        "v2 = Vector(1, 5)"
      ],
      "metadata": {
        "id": "ywbFLczKQEzZ"
      },
      "execution_count": null,
      "outputs": []
    },
    {
      "cell_type": "code",
      "source": [
        "v3 = v1 + v2\n",
        "print(v3)"
      ],
      "metadata": {
        "colab": {
          "base_uri": "https://localhost:8080/"
        },
        "id": "A4C7o3tZQU5g",
        "outputId": "0fb27eee-7a29-4978-f35e-15f28702922f"
      },
      "execution_count": null,
      "outputs": [
        {
          "output_type": "stream",
          "name": "stdout",
          "text": [
            "Vector(7, 9)\n"
          ]
        }
      ]
    },
    {
      "cell_type": "markdown",
      "source": [
        "**11.** Create a class Person with attributes name and age. Add a method greet() that prints \"Hello, my name is\n",
        "{name} and I am {age} years old.\""
      ],
      "metadata": {
        "id": "egHs-WoNR_x8"
      }
    },
    {
      "cell_type": "code",
      "source": [
        "class Person:\n",
        "  def __init__(self, name, age):\n",
        "    self.name = name\n",
        "    self.age = age\n",
        "\n",
        "  def greet(self):\n",
        "    print(f\"Hello, my name is {self.name} and I am {self.age} years old.\")"
      ],
      "metadata": {
        "id": "zX44FoXRRUVL"
      },
      "execution_count": null,
      "outputs": []
    },
    {
      "cell_type": "code",
      "source": [
        "person1 = Person(\"John\", 25)\n",
        "person1.greet()"
      ],
      "metadata": {
        "colab": {
          "base_uri": "https://localhost:8080/"
        },
        "id": "Xj96-RLvSswy",
        "outputId": "f01749cb-67e3-41c9-f45f-1b044c258b0f"
      },
      "execution_count": null,
      "outputs": [
        {
          "output_type": "stream",
          "name": "stdout",
          "text": [
            "Hello, my name is John and I am 25 years old.\n"
          ]
        }
      ]
    },
    {
      "cell_type": "markdown",
      "source": [
        "**12.**Implement a class Student with attributes name and grades. Create a method average_grade() to compute\n",
        "the average of the grades."
      ],
      "metadata": {
        "id": "px3BV7Y2TAGz"
      }
    },
    {
      "cell_type": "code",
      "source": [
        "class Student:\n",
        "  def __init__(self, name, grades):\n",
        "    self.name = name\n",
        "    self.grades = grades\n",
        "\n",
        "  def average_grade(self):\n",
        "    return sum(self.grades) / len(self.grades)"
      ],
      "metadata": {
        "id": "BEiSL4viS90S"
      },
      "execution_count": 2,
      "outputs": []
    },
    {
      "cell_type": "code",
      "source": [
        "stud = Student(\"John\", [91, 96, 88])\n",
        "stud.average_grade()"
      ],
      "metadata": {
        "colab": {
          "base_uri": "https://localhost:8080/"
        },
        "id": "INQq5XWv463P",
        "outputId": "f1bf7acc-12cc-45b3-bd93-843ac5b95dca"
      },
      "execution_count": 4,
      "outputs": [
        {
          "output_type": "execute_result",
          "data": {
            "text/plain": [
              "91.66666666666667"
            ]
          },
          "metadata": {},
          "execution_count": 4
        }
      ]
    },
    {
      "cell_type": "markdown",
      "source": [
        "**13.**Create a class Rectangle with methods set_dimensions() to set the dimensions and area() to calculate the\n",
        "area."
      ],
      "metadata": {
        "id": "xRwkC4IZ5XoQ"
      }
    },
    {
      "cell_type": "code",
      "source": [
        "class Rectangle:\n",
        "  def __init__(self):\n",
        "    self.length = 0\n",
        "    self.width = 0\n",
        "\n",
        "  def set_dimensions(self, length, width):\n",
        "    self.length = length\n",
        "    self.width = width\n",
        "\n",
        "  def area(self):\n",
        "    return self.length * self.width"
      ],
      "metadata": {
        "id": "0QrWrIMO5Luo"
      },
      "execution_count": 17,
      "outputs": []
    },
    {
      "cell_type": "code",
      "source": [
        "rect = Rectangle()"
      ],
      "metadata": {
        "id": "V1YD50iC6-el"
      },
      "execution_count": 18,
      "outputs": []
    },
    {
      "cell_type": "code",
      "source": [
        "rect.set_dimensions(6,4)\n",
        "rect.area()"
      ],
      "metadata": {
        "colab": {
          "base_uri": "https://localhost:8080/"
        },
        "id": "nrKtpCdp7BQn",
        "outputId": "f55fd724-6e01-4904-f84f-e4f6e315fdec"
      },
      "execution_count": 20,
      "outputs": [
        {
          "output_type": "execute_result",
          "data": {
            "text/plain": [
              "24"
            ]
          },
          "metadata": {},
          "execution_count": 20
        }
      ]
    },
    {
      "cell_type": "markdown",
      "source": [
        "**14.**Create a class Employee with a method calculate_salary() that computes the salary based on hours worked\n",
        "and hourly rate. Create a derived class Manager that adds a bonus to the salary."
      ],
      "metadata": {
        "id": "FniIyG0F8PkQ"
      }
    },
    {
      "cell_type": "code",
      "source": [
        "class Employee:\n",
        "    def __init__(self, name, hours_worked, hourly_rate):\n",
        "        self.name = name\n",
        "        self.hours_worked = hours_worked\n",
        "        self.hourly_rate = hourly_rate\n",
        "\n",
        "    def calculate_salary(self):\n",
        "        return self.hours_worked * self.hourly_rate\n",
        "\n",
        "class Manager(Employee):\n",
        "    def __init__(self, name, hours_worked, hourly_rate, bonus):\n",
        "        super().__init__(name, hours_worked, hourly_rate)\n",
        "        self.bonus = bonus\n",
        "\n",
        "    def calculate_salary(self):\n",
        "        base_salary = super().calculate_salary()\n",
        "        return base_salary + self.bonus\n"
      ],
      "metadata": {
        "id": "It3P_1_B8Snh"
      },
      "execution_count": 21,
      "outputs": []
    },
    {
      "cell_type": "code",
      "source": [
        "emp = Employee(\"John\", 60, 40)\n",
        "emp.calculate_salary()"
      ],
      "metadata": {
        "colab": {
          "base_uri": "https://localhost:8080/"
        },
        "id": "5qArxURrNgUI",
        "outputId": "e7296d27-85a1-4f9e-ece2-b005ad84220a"
      },
      "execution_count": 22,
      "outputs": [
        {
          "output_type": "execute_result",
          "data": {
            "text/plain": [
              "2400"
            ]
          },
          "metadata": {},
          "execution_count": 22
        }
      ]
    },
    {
      "cell_type": "code",
      "source": [
        "mgr = Manager(\"Alice\", 60, 40, 1000)\n",
        "mgr.calculate_salary()"
      ],
      "metadata": {
        "colab": {
          "base_uri": "https://localhost:8080/"
        },
        "id": "THTAPXuRNj7x",
        "outputId": "57949447-60f5-48e5-bd16-1af37ab415d7"
      },
      "execution_count": 23,
      "outputs": [
        {
          "output_type": "execute_result",
          "data": {
            "text/plain": [
              "3400"
            ]
          },
          "metadata": {},
          "execution_count": 23
        }
      ]
    },
    {
      "cell_type": "markdown",
      "source": [
        "**15.**Create a class Product with attributes name, price, and quantity. Implement a method total_price() that\n",
        "calculates the total price of the product."
      ],
      "metadata": {
        "id": "pz-dWXbBNr-0"
      }
    },
    {
      "cell_type": "code",
      "source": [
        "class product:\n",
        "  def __init__(self, name, price, quantity):\n",
        "    self.name = name\n",
        "    self.price = price\n",
        "    self.quantity = quantity\n",
        "\n",
        "  def total_price(self):\n",
        "    return self.price * self.quantity"
      ],
      "metadata": {
        "id": "dPByTCk-NoK0"
      },
      "execution_count": 24,
      "outputs": []
    },
    {
      "cell_type": "code",
      "source": [
        "prdt = product(\"Pen\", 10, 6)\n",
        "prdt.total_price()"
      ],
      "metadata": {
        "colab": {
          "base_uri": "https://localhost:8080/"
        },
        "id": "sD1Bk7RqOV4B",
        "outputId": "6b176ba2-d885-4c9d-8dcc-7daf3ceb2196"
      },
      "execution_count": 25,
      "outputs": [
        {
          "output_type": "execute_result",
          "data": {
            "text/plain": [
              "60"
            ]
          },
          "metadata": {},
          "execution_count": 25
        }
      ]
    },
    {
      "cell_type": "markdown",
      "source": [
        "**16.**Create a class Animal with an abstract method sound(). Create two derived classes Cow and Sheep that\n",
        "implement the sound() method."
      ],
      "metadata": {
        "id": "ZvCI9fKTOoMa"
      }
    },
    {
      "cell_type": "code",
      "source": [
        "import abc\n",
        "\n",
        "class Animal:\n",
        "  @abc.abstractmethod\n",
        "  def sound(self):\n",
        "    pass\n",
        "\n",
        "class Cow(Animal):\n",
        "  def sound(self):\n",
        "    print(\"Meow!\")\n",
        "\n",
        "class Dog(Animal):\n",
        "  def sound(self):\n",
        "    print(\"Bark!\")"
      ],
      "metadata": {
        "id": "frpUTScZOlX9"
      },
      "execution_count": 26,
      "outputs": []
    },
    {
      "cell_type": "code",
      "source": [
        "c = Cow()\n",
        "c.sound()"
      ],
      "metadata": {
        "colab": {
          "base_uri": "https://localhost:8080/"
        },
        "id": "JbZmpHHfPU0e",
        "outputId": "ac9eeb42-3f3c-4aa5-cddb-08143cb96402"
      },
      "execution_count": 27,
      "outputs": [
        {
          "output_type": "stream",
          "name": "stdout",
          "text": [
            "Meow!\n"
          ]
        }
      ]
    },
    {
      "cell_type": "code",
      "source": [
        "d = Dog()\n",
        "d.sound()"
      ],
      "metadata": {
        "colab": {
          "base_uri": "https://localhost:8080/"
        },
        "id": "OuzJwPC3PaMz",
        "outputId": "01c059bb-12f4-48b1-d5b4-9468a91f3324"
      },
      "execution_count": 28,
      "outputs": [
        {
          "output_type": "stream",
          "name": "stdout",
          "text": [
            "Bark!\n"
          ]
        }
      ]
    },
    {
      "cell_type": "markdown",
      "source": [
        "**17.**Create a class Book with attributes title, author, and year_published. Add a method get_book_info() that\n",
        "returns a formatted string with the book's details."
      ],
      "metadata": {
        "id": "fm0wNQH8PgXL"
      }
    },
    {
      "cell_type": "code",
      "source": [
        "class Book:\n",
        "  def __init__(self, title, author, year_published):\n",
        "    self.title = title\n",
        "    self.author = author\n",
        "    self.year_published = year_published\n",
        "\n",
        "  def get_book_info(self):\n",
        "    return f\"Title: {self.title}, Author: {self.author}, Year Published: {self.year_published}\""
      ],
      "metadata": {
        "id": "Jd4X0aVvPd53"
      },
      "execution_count": 33,
      "outputs": []
    },
    {
      "cell_type": "code",
      "source": [
        "b = Book(\"1984\", \"George Orwell\", 1949)\n",
        "b.get_book_info()"
      ],
      "metadata": {
        "colab": {
          "base_uri": "https://localhost:8080/",
          "height": 36
        },
        "id": "rW9wnUVQP7Ym",
        "outputId": "eb8d76b2-1363-4346-8a49-dfd33109afe1"
      },
      "execution_count": 34,
      "outputs": [
        {
          "output_type": "execute_result",
          "data": {
            "text/plain": [
              "'Title: 1984, Author: George Orwell, Year Published: 1949'"
            ],
            "application/vnd.google.colaboratory.intrinsic+json": {
              "type": "string"
            }
          },
          "metadata": {},
          "execution_count": 34
        }
      ]
    },
    {
      "cell_type": "markdown",
      "source": [
        "**18.**Create a class House with attributes address and price. Create a derived class Mansion that adds an\n",
        "attribute number_of_rooms."
      ],
      "metadata": {
        "id": "XzZ962nvQiR2"
      }
    },
    {
      "cell_type": "code",
      "source": [
        "class House:\n",
        "  def __init__(self, address, price):\n",
        "    self.address = address\n",
        "    self.price = price\n",
        "\n",
        "  def get_info(self):\n",
        "    return f\"Address: {self.address}, Price: {self.price}\"\n",
        "\n",
        "class Mansion(House):\n",
        "  def __init__(self, address, price, number_of_rooms):\n",
        "    super().__init__(address, price)\n",
        "    self.number_of_rooms = number_of_rooms\n",
        "\n",
        "  def get_info(self):\n",
        "    return f\"Address: {self.address}, Price: {self.price}, Number of Rooms: {self.number_of_rooms}\""
      ],
      "metadata": {
        "id": "vygsD5_hQOXq"
      },
      "execution_count": 36,
      "outputs": []
    },
    {
      "cell_type": "code",
      "source": [
        "mansion = Mansion(\"56 Main st Pune\", 1000000, 4)\n",
        "mansion.get_info()"
      ],
      "metadata": {
        "colab": {
          "base_uri": "https://localhost:8080/",
          "height": 36
        },
        "id": "fGQIfFWIQ6Uh",
        "outputId": "fd453a7d-b0cb-4417-ff23-7161092c7c41"
      },
      "execution_count": 39,
      "outputs": [
        {
          "output_type": "execute_result",
          "data": {
            "text/plain": [
              "'Address: 56 Main st Pune, Price: 1000000, Number of Rooms: 4'"
            ],
            "application/vnd.google.colaboratory.intrinsic+json": {
              "type": "string"
            }
          },
          "metadata": {},
          "execution_count": 39
        }
      ]
    }
  ]
}